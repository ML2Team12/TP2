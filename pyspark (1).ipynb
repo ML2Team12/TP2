{
 "cells": [
  {
   "cell_type": "code",
   "execution_count": 1,
   "metadata": {},
   "outputs": [],
   "source": [
    "from pyspark.sql import SparkSession\n",
    "from pyspark.sql import types\n",
    "\n",
    "spark=  SparkSession.builder.master(\"local[*]\").appName(\"new\").getOrCreate()"
   ]
  },
  {
   "cell_type": "code",
   "execution_count": 2,
   "metadata": {},
   "outputs": [],
   "source": [
    "# sc=spark.sparkContext\n",
    "df=spark.read.csv(r\"D:\\Netease\\vehicles.csv\",header=True,inferSchema=True)"
   ]
  },
  {
   "cell_type": "code",
   "execution_count": 3,
   "metadata": {},
   "outputs": [
    {
     "name": "stdout",
     "output_type": "stream",
     "text": [
      "+----------+--------------------+--------------------+--------------------+-----+----+------------+-----+---------+---------+----+--------+------------+------------+----+-----+----+----+-----------+---------+-----------+------+-----+----+----+------------+\n",
      "|        id|                 url|              region|          region_url|price|year|manufacturer|model|condition|cylinders|fuel|odometer|title_status|transmission| VIN|drive|size|type|paint_color|image_url|description|county|state| lat|long|posting_date|\n",
      "+----------+--------------------+--------------------+--------------------+-----+----+------------+-----+---------+---------+----+--------+------------+------------+----+-----+----+----+-----------+---------+-----------+------+-----+----+----+------------+\n",
      "|7222695916|https://prescott....|            prescott|https://prescott....| 6000|null|        null| null|     null|     null|null|    null|        null|        null|null| null|null|null|       null|     null|       null|  null|   az|null|null|        null|\n",
      "|7218891961|https://fayar.cra...|        fayetteville|https://fayar.cra...|11900|null|        null| null|     null|     null|null|    null|        null|        null|null| null|null|null|       null|     null|       null|  null|   ar|null|null|        null|\n",
      "|7221797935|https://keys.crai...|        florida keys|https://keys.crai...|21000|null|        null| null|     null|     null|null|    null|        null|        null|null| null|null|null|       null|     null|       null|  null|   fl|null|null|        null|\n",
      "|7222270760|https://worcester...|worcester / centr...|https://worcester...| 1500|null|        null| null|     null|     null|null|    null|        null|        null|null| null|null|null|       null|     null|       null|  null|   ma|null|null|        null|\n",
      "|7210384030|https://greensbor...|          greensboro|https://greensbor...| 4900|null|        null| null|     null|     null|null|    null|        null|        null|null| null|null|null|       null|     null|       null|  null|   nc|null|null|        null|\n",
      "+----------+--------------------+--------------------+--------------------+-----+----+------------+-----+---------+---------+----+--------+------------+------------+----+-----+----+----+-----------+---------+-----------+------+-----+----+----+------------+\n",
      "only showing top 5 rows\n",
      "\n"
     ]
    }
   ],
   "source": [
    "\n",
    "df.show(5)"
   ]
  },
  {
   "cell_type": "code",
   "execution_count": 4,
   "metadata": {},
   "outputs": [
    {
     "data": {
      "text/plain": [
       "DataFrame[region: string, price: string, year: string, manufacturer: string, model: string, condition: string, cylinders: string, fuel: string, odometer: string, title_status: string, transmission: string, drive: string, type: string, state: string]"
      ]
     },
     "execution_count": 4,
     "metadata": {},
     "output_type": "execute_result"
    }
   ],
   "source": [
    "# drop unnecessary columns\n",
    "df=df.drop('id','url','region_url','vin','image_url','description','lat','long','county','size','posting_date','paint_color') \n",
    "# filter rows that manufacturer and model are not missing\n",
    "df=df.filter(\"manufacturer != 'null' and model != 'null'\")\n",
    "df.cache()"
   ]
  },
  {
   "cell_type": "code",
   "execution_count": 5,
   "metadata": {},
   "outputs": [
    {
     "name": "stdout",
     "output_type": "stream",
     "text": [
      "root\n",
      " |-- region: string (nullable = true)\n",
      " |-- price: integer (nullable = true)\n",
      " |-- year: integer (nullable = true)\n",
      " |-- manufacturer: string (nullable = true)\n",
      " |-- model: string (nullable = true)\n",
      " |-- condition: string (nullable = true)\n",
      " |-- cylinders: integer (nullable = true)\n",
      " |-- fuel: string (nullable = true)\n",
      " |-- odometer: integer (nullable = true)\n",
      " |-- title_status: string (nullable = true)\n",
      " |-- transmission: string (nullable = true)\n",
      " |-- drive: string (nullable = true)\n",
      " |-- type: string (nullable = true)\n",
      " |-- state: string (nullable = true)\n",
      " |-- model_short: string (nullable = true)\n",
      "\n"
     ]
    }
   ],
   "source": [
    "# since we are interested in the factors that would afffect used car price, we will ignore those observations that price is 0\n",
    "from pyspark.sql import functions \n",
    "df = df.filter(df.price >= 1000)\n",
    "df = df.withColumn(\"model_short\", functions.substring(\"model\", 1, 2))\n",
    "df = df.withColumn('cylinders', functions.regexp_extract('cylinders', '\\d+', 0).cast('integer'))\n",
    "\n",
    "df = df.withColumn(\"year\", df[\"year\"].cast(types.IntegerType()))\\\n",
    "    .withColumn(\"price\", df[\"price\"].cast(types.IntegerType()))\\\n",
    "    .withColumn(\"odometer\", df[\"odometer\"].cast(types.IntegerType()))\n",
    "df.printSchema()"
   ]
  },
  {
   "cell_type": "code",
   "execution_count": null,
   "metadata": {},
   "outputs": [],
   "source": []
  },
  {
   "cell_type": "code",
   "execution_count": null,
   "metadata": {},
   "outputs": [],
   "source": []
  },
  {
   "cell_type": "code",
   "execution_count": 6,
   "metadata": {},
   "outputs": [
    {
     "data": {
      "text/plain": [
       "361213"
      ]
     },
     "execution_count": 6,
     "metadata": {},
     "output_type": "execute_result"
    }
   ],
   "source": [
    "# count for number of observations\n",
    "df.count()"
   ]
  },
  {
   "cell_type": "code",
   "execution_count": 7,
   "metadata": {},
   "outputs": [
    {
     "name": "stdout",
     "output_type": "stream",
     "text": [
      "+------+-----+----+------------+--------------------+---------+---------+------+--------+------------+------------+-----+---------+-----+-----------+\n",
      "|region|price|year|manufacturer|               model|condition|cylinders|  fuel|odometer|title_status|transmission|drive|     type|state|model_short|\n",
      "+------+-----+----+------------+--------------------+---------+---------+------+--------+------------+------------+-----+---------+-----+-----------+\n",
      "|auburn|33590|2014|         gmc|sierra 1500 crew ...|     good|        8|   gas|   57923|       clean|       other| null|   pickup|   al|         si|\n",
      "|auburn|22590|2010|   chevrolet|      silverado 1500|     good|        8|   gas|   71229|       clean|       other| null|   pickup|   al|         si|\n",
      "|auburn|39590|2020|   chevrolet| silverado 1500 crew|     good|        8|   gas|   19160|       clean|       other| null|   pickup|   al|         si|\n",
      "|auburn|30990|2017|      toyota|tundra double cab sr|     good|        8|   gas|   41124|       clean|       other| null|   pickup|   al|         tu|\n",
      "|auburn|15000|2013|        ford|           f-150 xlt|excellent|        6|   gas|  128000|       clean|   automatic|  rwd|    truck|   al|         f-|\n",
      "|auburn|27990|2012|         gmc|sierra 2500 hd ex...|     good|        8|   gas|   68696|       clean|       other|  4wd|   pickup|   al|         si|\n",
      "|auburn|34590|2016|   chevrolet|silverado 1500 do...|     good|        6|   gas|   29499|       clean|       other|  4wd|   pickup|   al|         si|\n",
      "|auburn|35000|2019|      toyota|              tacoma|excellent|        6|   gas|   43000|       clean|   automatic|  4wd|    truck|   al|         ta|\n",
      "|auburn|29990|2016|   chevrolet|colorado extended...|     good|        6|   gas|   17302|       clean|       other|  4wd|   pickup|   al|         co|\n",
      "|auburn|38590|2011|   chevrolet|corvette grand sport|     good|        8|   gas|   30237|       clean|       other|  rwd|    other|   al|         co|\n",
      "|auburn| 4500|1992|        jeep|            cherokee|excellent|        6|   gas|  192000|       clean|   automatic|  4wd|     null|   al|         ch|\n",
      "|auburn|32990|2017|        jeep|wrangler unlimite...|     good|        6|   gas|   30041|       clean|       other|  4wd|    other|   al|         wr|\n",
      "|auburn|24590|2017|   chevrolet|silverado 1500 re...|     good|        6|   gas|   40784|       clean|       other| null|   pickup|   al|         si|\n",
      "|auburn|30990|2016|   chevrolet|colorado crew cab...|     good|     null| other|   34940|       clean|       other|  4wd|   pickup|   al|         co|\n",
      "|auburn|27990|2014|      toyota|tacoma access cab...|     good|     null| other|   17805|       clean|       other| null|   pickup|   al|         ta|\n",
      "|auburn|37990|2016|   chevrolet|  camaro ss coupe 2d|     good|        8|   gas|    9704|       clean|       other|  rwd|    coupe|   al|         ca|\n",
      "|auburn|33590|2014|      toyota|tundra crewmax sr...|     good|     null| other|   55251|       clean|       other| null|   pickup|   al|         tu|\n",
      "|auburn|30990|2019|        ford|ranger supercrew ...|     good|     null| other|    1834|       clean|       other| null|   pickup|   al|         ra|\n",
      "|auburn|27990|2018|      nissan|frontier crew cab...|     good|        6|   gas|   37332|       clean|       other|  4wd|   pickup|   al|         fr|\n",
      "|auburn|34590|2018|        ford|f150 super cab xl...|     good|        6|   gas|   20856|       clean|       other| null|   pickup|   al|         f1|\n",
      "|auburn|30590|2016|      toyota|tacoma double cab...|     good|     null| other|   30176|       clean|       other| null|   pickup|   al|         ta|\n",
      "|auburn|32990|2020|        jeep|wrangler sport su...|     good|     null|   gas|   20581|       clean|       other|  4wd|      SUV|   al|         wr|\n",
      "|auburn|38990|2020|        ford|f150 supercrew ca...|     good|        6|   gas|   12231|       clean|       other| null|   pickup|   al|         f1|\n",
      "|auburn|22590|2017|         ram|1500 regular cab ...|     good|        8|   gas|   39508|       clean|       other| null|   pickup|   al|         15|\n",
      "|auburn|31590|2020|       mazda|     mx-5 miata club|     good|     null|   gas|    2195|       clean|       other|  rwd|    other|   al|         mx|\n",
      "|auburn|27990|2020|        ford|ranger supercab x...|     good|     null|   gas|   10688|       clean|       other| null|   pickup|   al|         ra|\n",
      "|auburn|31590|2019|    cadillac|    xt4 sport suv 4d|     good|     null| other|   12102|       clean|       other|  fwd|hatchback|   al|         xt|\n",
      "|auburn|19900|2004|        ford|     f250 super duty|     good|        8|diesel|   88000|       clean|   automatic|  4wd|   pickup|   al|         f2|\n",
      "|auburn|16590|2016|        jeep|renegade sport su...|     good|     null|   gas|   35835|       clean|       other|  4wd|    other|   al|         re|\n",
      "|auburn|26990|2016|        ford|f150 regular cab ...|     good|        6|   gas|   14230|       clean|       other| null|   pickup|   al|         f1|\n",
      "+------+-----+----+------------+--------------------+---------+---------+------+--------+------------+------------+-----+---------+-----+-----------+\n",
      "only showing top 30 rows\n",
      "\n"
     ]
    }
   ],
   "source": [
    "df.show(30)"
   ]
  },
  {
   "cell_type": "code",
   "execution_count": 8,
   "metadata": {},
   "outputs": [
    {
     "name": "stdout",
     "output_type": "stream",
     "text": [
      "root\n",
      " |-- region: string (nullable = true)\n",
      " |-- price: integer (nullable = true)\n",
      " |-- year: integer (nullable = true)\n",
      " |-- manufacturer: string (nullable = true)\n",
      " |-- model: string (nullable = true)\n",
      " |-- condition: string (nullable = true)\n",
      " |-- cylinders: integer (nullable = true)\n",
      " |-- fuel: string (nullable = true)\n",
      " |-- odometer: integer (nullable = true)\n",
      " |-- title_status: string (nullable = true)\n",
      " |-- transmission: string (nullable = true)\n",
      " |-- drive: string (nullable = true)\n",
      " |-- type: string (nullable = true)\n",
      " |-- state: string (nullable = true)\n",
      " |-- model_short: string (nullable = true)\n",
      "\n"
     ]
    }
   ],
   "source": [
    "from pyspark.sql import types\n",
    "# cast datatype into correct types\n",
    "df = df.withColumn(\"year\", df[\"year\"].cast(types.IntegerType()))\\\n",
    "    .withColumn(\"price\", df[\"price\"].cast(types.IntegerType()))\\\n",
    "    .withColumn(\"odometer\", df[\"odometer\"].cast(types.IntegerType()))\n",
    "df.printSchema()"
   ]
  },
  {
   "cell_type": "code",
   "execution_count": 9,
   "metadata": {},
   "outputs": [
    {
     "name": "stdout",
     "output_type": "stream",
     "text": [
      "+------+-----+----+------------+--------------------+---------+---------+----+--------+------------+------------+-----+------+-----+-----------+\n",
      "|region|price|year|manufacturer|               model|condition|cylinders|fuel|odometer|title_status|transmission|drive|  type|state|model_short|\n",
      "+------+-----+----+------------+--------------------+---------+---------+----+--------+------------+------------+-----+------+-----+-----------+\n",
      "|auburn|33590|2014|         gmc|sierra 1500 crew ...|     good|        8| gas|   57923|       clean|       other| null|pickup|   al|         si|\n",
      "|auburn|22590|2010|   chevrolet|      silverado 1500|     good|        8| gas|   71229|       clean|       other| null|pickup|   al|         si|\n",
      "|auburn|39590|2020|   chevrolet| silverado 1500 crew|     good|        8| gas|   19160|       clean|       other| null|pickup|   al|         si|\n",
      "|auburn|30990|2017|      toyota|tundra double cab sr|     good|        8| gas|   41124|       clean|       other| null|pickup|   al|         tu|\n",
      "|auburn|15000|2013|        ford|           f-150 xlt|excellent|        6| gas|  128000|       clean|   automatic|  rwd| truck|   al|         f-|\n",
      "+------+-----+----+------------+--------------------+---------+---------+----+--------+------------+------------+-----+------+-----+-----------+\n",
      "only showing top 5 rows\n",
      "\n"
     ]
    }
   ],
   "source": [
    "df.show(5)"
   ]
  },
  {
   "cell_type": "code",
   "execution_count": 10,
   "metadata": {},
   "outputs": [
    {
     "data": {
      "text/plain": [
       "361213"
      ]
     },
     "execution_count": 10,
     "metadata": {},
     "output_type": "execute_result"
    }
   ],
   "source": [
    "df.count()"
   ]
  },
  {
   "cell_type": "code",
   "execution_count": 11,
   "metadata": {},
   "outputs": [],
   "source": [
    "price_stats = df.select(\"price\").summary()\n",
    "t=price_stats.collect()"
   ]
  },
  {
   "cell_type": "code",
   "execution_count": 12,
   "metadata": {},
   "outputs": [
    {
     "data": {
      "text/plain": [
       "[Row(summary='count', price='361213'),\n",
       " Row(summary='mean', price='32106.06230672761'),\n",
       " Row(summary='stddev', price='3659470.6001482303'),\n",
       " Row(summary='min', price='1000'),\n",
       " Row(summary='25%', price='7995'),\n",
       " Row(summary='50%', price='15995'),\n",
       " Row(summary='75%', price='27990'),\n",
       " Row(summary='max', price='1410065407')]"
      ]
     },
     "execution_count": 12,
     "metadata": {},
     "output_type": "execute_result"
    }
   ],
   "source": [
    "avg_price=float(t[1][1])\n",
    "Q3=float(t[-2][1])\n",
    "Q1=float(t[-4][1])\n",
    "t"
   ]
  },
  {
   "cell_type": "code",
   "execution_count": 13,
   "metadata": {},
   "outputs": [
    {
     "data": {
      "text/plain": [
       "<AxesSubplot:>"
      ]
     },
     "execution_count": 13,
     "metadata": {},
     "output_type": "execute_result"
    },
    {
     "data": {
      "image/png": "[encoded data removed]",
      "text/plain": [
       "<Figure size 432x288 with 1 Axes>"
      ]
     },
     "metadata": {
      "needs_background": "light"
     },
     "output_type": "display_data"
    }
   ],
   "source": [
    "import seaborn as sns\n",
    "import numpy as np\n",
    "c=df.select(\"price\").toPandas().values\n",
    "cleaned_values = c[np.isfinite(c)]\n",
    "\n",
    "# box plot\n",
    "sns.boxplot(x=cleaned_values)\n"
   ]
  },
  {
   "cell_type": "code",
   "execution_count": 14,
   "metadata": {},
   "outputs": [
    {
     "data": {
      "text/plain": [
       "19995.0"
      ]
     },
     "execution_count": 14,
     "metadata": {},
     "output_type": "execute_result"
    }
   ],
   "source": [
    "# fill nas with mean\n",
    "df = df.fillna({\"price\": avg_price})\n",
    "\n",
    "# perform outliers removal on price column\n",
    "IQR = Q3 - Q1\n",
    "IQR"
   ]
  },
  {
   "cell_type": "code",
   "execution_count": null,
   "metadata": {},
   "outputs": [],
   "source": []
  },
  {
   "cell_type": "code",
   "execution_count": 15,
   "metadata": {},
   "outputs": [
    {
     "data": {
      "text/plain": [
       "<AxesSubplot:>"
      ]
     },
     "execution_count": 15,
     "metadata": {},
     "output_type": "execute_result"
    },
    {
     "data": {
      "image/png": "[encoded data removed]",
      "text/plain": [
       "<Figure size 432x288 with 1 Axes>"
      ]
     },
     "metadata": {
      "needs_background": "light"
     },
     "output_type": "display_data"
    }
   ],
   "source": [
    "from pyspark.sql import functions\n",
    "df = df.withColumn(\"price\", functions.when((functions.col(\"price\") < Q1-1.5*IQR),Q1-1.5*IQR).when(functions.col(\"price\") > Q3+1.5*IQR, avg_price).otherwise(functions.col(\"price\")))\n",
    "price_stats = df.select(\"price\").summary()\n",
    "t1=price_stats.collect()\n",
    "t1\n",
    "#3 visualize new price \n",
    "c=df.select(\"price\").toPandas().values\n",
    "cleaned_values = c[np.isfinite(c)]\n",
    "\n",
    "# box plot\n",
    "sns.boxplot(x=cleaned_values)"
   ]
  },
  {
   "cell_type": "code",
   "execution_count": 16,
   "metadata": {},
   "outputs": [
    {
     "name": "stdout",
     "output_type": "stream",
     "text": [
      "+------+-------+----+------------+--------------------+---------+---------+----+--------+------------+------------+-----+------+-----+-----------+\n",
      "|region|  price|year|manufacturer|               model|condition|cylinders|fuel|odometer|title_status|transmission|drive|  type|state|model_short|\n",
      "+------+-------+----+------------+--------------------+---------+---------+----+--------+------------+------------+-----+------+-----+-----------+\n",
      "|auburn|33590.0|2014|         gmc|sierra 1500 crew ...|     good|        8| gas|   57923|       clean|       other| null|pickup|   al|         si|\n",
      "|auburn|22590.0|2010|   chevrolet|      silverado 1500|     good|        8| gas|   71229|       clean|       other| null|pickup|   al|         si|\n",
      "|auburn|39590.0|2020|   chevrolet| silverado 1500 crew|     good|        8| gas|   19160|       clean|       other| null|pickup|   al|         si|\n",
      "|auburn|30990.0|2017|      toyota|tundra double cab sr|     good|        8| gas|   41124|       clean|       other| null|pickup|   al|         tu|\n",
      "|auburn|15000.0|2013|        ford|           f-150 xlt|excellent|        6| gas|  128000|       clean|   automatic|  rwd| truck|   al|         f-|\n",
      "+------+-------+----+------------+--------------------+---------+---------+----+--------+------------+------------+-----+------+-----+-----------+\n",
      "only showing top 5 rows\n",
      "\n"
     ]
    }
   ],
   "source": [
    "df.show(5)"
   ]
  },
  {
   "cell_type": "code",
   "execution_count": 17,
   "metadata": {},
   "outputs": [],
   "source": [
    "from pyspark.sql import DataFrame\n",
    "def clean(dataframe: DataFrame, COL: str) -> DataFrame:\n",
    "    '''\n",
    "    Take a spark dataframe and a column name (COL)\n",
    "    Calculate the summary statistics for the column and clean the column with calculated values\n",
    "    '''\n",
    "\n",
    "    column_stats = dataframe.select(COL).summary()\n",
    "    stats = column_stats.collect()\n",
    "\n",
    "    avg = float(stats[1][1])\n",
    "    Q3 = float(stats[-2][1])\n",
    "    Q1 = float(stats[-4][1])\n",
    "    IQR = Q3 - Q1\n",
    "\n",
    "    # Fill missing values with average\n",
    "    dataframe = dataframe.fillna({COL: avg})\n",
    "\n",
    "    dataframe = dataframe.withColumn(\n",
    "        COL,\n",
    "        functions.when(functions.col(COL) < Q1 - 1.5 * IQR, Q1 - 1.5 * IQR)\n",
    "        .when(functions.col(COL) > Q3 + 1.5 * IQR, avg)\n",
    "        .otherwise(functions.col(COL))\n",
    "    )\n",
    "\n",
    "    return dataframe\n"
   ]
  },
  {
   "cell_type": "code",
   "execution_count": 18,
   "metadata": {},
   "outputs": [],
   "source": [
    "numeric_columns=[\"year\",\"odometer\",\"cylinders\"]\n",
    "for col in numeric_columns:\n",
    "    df = clean(df, col)"
   ]
  },
  {
   "cell_type": "code",
   "execution_count": 19,
   "metadata": {},
   "outputs": [],
   "source": [
    "categorical_columns=[\"region\",\"fuel\",\"drive\",\"type\",\"manufacturer\",\"transmission\",\"title_status\",\"model\",\"condition\",\"state\"]"
   ]
  },
  {
   "cell_type": "code",
   "execution_count": 20,
   "metadata": {},
   "outputs": [],
   "source": [
    "# filling categorical missing values with \"unknown\"\n",
    "for col in categorical_columns:\n",
    "    df = df.withColumn(col, functions.when(df[col].isNull(), \"Unknown\").otherwise(df[col]))"
   ]
  },
  {
   "cell_type": "code",
   "execution_count": 21,
   "metadata": {},
   "outputs": [
    {
     "data": {
      "text/plain": [
       "DataFrame[region: string, price: double, year: double, manufacturer: string, model: string, condition: string, cylinders: double, fuel: string, odometer: double, title_status: string, transmission: string, drive: string, type: string, state: string, model_short: string]"
      ]
     },
     "execution_count": 21,
     "metadata": {},
     "output_type": "execute_result"
    }
   ],
   "source": [
    "df.cache()"
   ]
  },
  {
   "cell_type": "code",
   "execution_count": 22,
   "metadata": {},
   "outputs": [
    {
     "name": "stdout",
     "output_type": "stream",
     "text": [
      "region: 0 null values\n",
      "price: 0 null values\n",
      "year: 0 null values\n",
      "manufacturer: 0 null values\n",
      "model: 0 null values\n",
      "condition: 0 null values\n",
      "cylinders: 0 null values\n",
      "fuel: 0 null values\n",
      "odometer: 0 null values\n",
      "title_status: 0 null values\n",
      "transmission: 0 null values\n",
      "drive: 0 null values\n",
      "type: 0 null values\n",
      "state: 0 null values\n",
      "model_short: 0 null values\n"
     ]
    }
   ],
   "source": [
    "#making sure there is no NAs\n",
    "\n",
    "from pyspark.sql.functions import col, when, isnull, isnan, count\n",
    "\n",
    "# 获取 DataFrame 中的所有列名\n",
    "all_columns = df.columns\n",
    "\n",
    "# 创建一个包含所有列的表达式，用于检查每个列中的空值（null 或 NaN）\n",
    "null_check_expr = [count(when(isnull(col(c)) | isnan(col(c)), c)).alias(c) for c in all_columns]\n",
    "\n",
    "# 使用上述表达式，聚合 DataFrame 并计算每个列中的空值数量\n",
    "null_counts = df.select(null_check_expr).collect()\n",
    "\n",
    "# 将空值计数结果转换为字典\n",
    "null_counts_dict = {c: null_counts[0][c] for c in all_columns}\n",
    "\n",
    "# 输出每个列的空值计数\n",
    "for column, null_count in null_counts_dict.items():\n",
    "    print(f\"{column}: {null_count} null values\")\n"
   ]
  },
  {
   "cell_type": "code",
   "execution_count": 23,
   "metadata": {},
   "outputs": [],
   "source": [
    "# machine learning model\n",
    "from pyspark.ml import Pipeline\n",
    "from pyspark.ml.feature import StringIndexer, OneHotEncoder, VectorAssembler, StandardScaler\n",
    "from pyspark.ml.regression import LinearRegression\n",
    "from pyspark.ml.evaluation import RegressionEvaluator\n",
    "\n",
    "# feature engineering\n",
    "numeric_columns=[\"year\",\"odometer\",\"cylinders\"]\n",
    "categorical_columns=[\"region\",\"fuel\",\"drive\",\"type\",\"manufacturer\",\"transmission\",\"title_status\",\"model\",\"condition\",\"state\"]\n",
    "output_columns = [f\"{c}_index\" for c in categorical_columns] + numeric_columns\n",
    "\n",
    "indexers = [StringIndexer(inputCol=c, outputCol=f\"{c}_index\", handleInvalid=\"keep\") for c in categorical_columns]\n",
    "encoder = OneHotEncoder(inputCols=[f\"{c}_index\" for c in categorical_columns], outputCols=[f\"{c}_ohe\" for c in categorical_columns])\n",
    "assembler = VectorAssembler(inputCols=[f\"{c}_ohe\" for c in categorical_columns] + numeric_columns, outputCol=\"features\")\n",
    "scaler = StandardScaler(inputCol=\"features\", outputCol=\"scaled_features\")\n",
    "\n"
   ]
  },
  {
   "cell_type": "code",
   "execution_count": 24,
   "metadata": {},
   "outputs": [
    {
     "name": "stdout",
     "output_type": "stream",
     "text": [
      "+------+-------+------+------------+--------------------+---------+---------+----+--------+------------+------------+-------+------+-----+-----------+\n",
      "|region|  price|  year|manufacturer|               model|condition|cylinders|fuel|odometer|title_status|transmission|  drive|  type|state|model_short|\n",
      "+------+-------+------+------------+--------------------+---------+---------+----+--------+------------+------------+-------+------+-----+-----------+\n",
      "|auburn|33590.0|2014.0|         gmc|sierra 1500 crew ...|     good|      8.0| gas| 57923.0|       clean|       other|Unknown|pickup|   al|         si|\n",
      "|auburn|22590.0|2010.0|   chevrolet|      silverado 1500|     good|      8.0| gas| 71229.0|       clean|       other|Unknown|pickup|   al|         si|\n",
      "|auburn|39590.0|2020.0|   chevrolet| silverado 1500 crew|     good|      8.0| gas| 19160.0|       clean|       other|Unknown|pickup|   al|         si|\n",
      "|auburn|30990.0|2017.0|      toyota|tundra double cab sr|     good|      8.0| gas| 41124.0|       clean|       other|Unknown|pickup|   al|         tu|\n",
      "|auburn|15000.0|2013.0|        ford|           f-150 xlt|excellent|      6.0| gas|128000.0|       clean|   automatic|    rwd| truck|   al|         f-|\n",
      "+------+-------+------+------------+--------------------+---------+---------+----+--------+------------+------------+-------+------+-----+-----------+\n",
      "only showing top 5 rows\n",
      "\n",
      "root\n",
      " |-- region: string (nullable = true)\n",
      " |-- price: double (nullable = true)\n",
      " |-- year: double (nullable = true)\n",
      " |-- manufacturer: string (nullable = true)\n",
      " |-- model: string (nullable = true)\n",
      " |-- condition: string (nullable = true)\n",
      " |-- cylinders: double (nullable = true)\n",
      " |-- fuel: string (nullable = true)\n",
      " |-- odometer: double (nullable = true)\n",
      " |-- title_status: string (nullable = true)\n",
      " |-- transmission: string (nullable = true)\n",
      " |-- drive: string (nullable = true)\n",
      " |-- type: string (nullable = true)\n",
      " |-- state: string (nullable = true)\n",
      " |-- model_short: string (nullable = true)\n",
      "\n"
     ]
    }
   ],
   "source": [
    "df.show(5)\n",
    "df.printSchema()"
   ]
  },
  {
   "cell_type": "code",
   "execution_count": 25,
   "metadata": {},
   "outputs": [],
   "source": [
    "\n",
    "# 选择回归模型\n",
    "lr = LinearRegression(featuresCol=\"scaled_features\", labelCol=\"price\")\n",
    "\n",
    "# 构建数据处理和模型训练管道\n",
    "pipeline = Pipeline(stages=indexers + [encoder, assembler, scaler, lr])\n",
    "\n",
    "# 拆分数据集为训练集和测试集\n",
    "train_data, test_data = df.randomSplit([0.8, 0.2], seed=42)\n",
    "\n",
    "# 训练模型\n",
    "model = pipeline.fit(train_data)"
   ]
  },
  {
   "cell_type": "code",
   "execution_count": 26,
   "metadata": {},
   "outputs": [
    {
     "name": "stdout",
     "output_type": "stream",
     "text": [
      "+------+-------------------+--------------------+\n",
      "| price|         prediction|     scaled_features|\n",
      "+------+-------------------+--------------------+\n",
      "|1100.0|-1719.9556406079791|(29279,[10,406,41...|\n",
      "|1200.0| 3294.0714814579114|(29279,[10,406,41...|\n",
      "|1234.0| 3301.8617851485033|(29279,[10,406,41...|\n",
      "|1600.0|  3604.922647776315|(29279,[10,406,41...|\n",
      "|1900.0|   567.569230816327|(29279,[10,406,41...|\n",
      "+------+-------------------+--------------------+\n",
      "only showing top 5 rows\n",
      "\n",
      "regression result\n",
      "R2 score: 0.8446538749608786\n",
      "Mean Squared Error: 24363704.656741563\n",
      "Root Mean Squared Error: 4935.960358100699\n"
     ]
    }
   ],
   "source": [
    "\n",
    "# 应用模型于测试集\n",
    "predictions = model.transform(test_data)\n",
    "\n",
    "# 选择要显示的列\n",
    "predictions.select(\"price\", \"prediction\", \"scaled_features\").show(5)\n",
    "\n",
    "# 初始化回归评估器\n",
    "evaluator = RegressionEvaluator(labelCol=\"price\", predictionCol=\"prediction\")\n",
    "\n",
    "# 计算评估指标\n",
    "r2 = evaluator.evaluate(predictions, {evaluator.metricName: \"r2\"})\n",
    "mse = evaluator.evaluate(predictions, {evaluator.metricName: \"mse\"})\n",
    "rmse = evaluator.evaluate(predictions, {evaluator.metricName: \"rmse\"})\n",
    "\n",
    "# 打印评估指标\n",
    "print(\"regression result\")\n",
    "print(f\"R2 score: {r2}\")\n",
    "print(f\"Mean Squared Error: {mse}\")\n",
    "print(f\"Root Mean Squared Error: {rmse}\")"
   ]
  },
  {
   "cell_type": "code",
   "execution_count": 27,
   "metadata": {},
   "outputs": [],
   "source": [
    "lasso = LinearRegression(featuresCol=\"scaled_features\", labelCol=\"price\", regParam=0.7, elasticNetParam=1.0)\n",
    "# 构建数据处理和模型训练管道\n",
    "pipeline = Pipeline(stages=indexers + [encoder, assembler, scaler, lasso])\n",
    "# 训练模型\n",
    "lasso_model = pipeline.fit(train_data)"
   ]
  },
  {
   "cell_type": "code",
   "execution_count": 28,
   "metadata": {},
   "outputs": [
    {
     "name": "stdout",
     "output_type": "stream",
     "text": [
      "+------+------------------+--------------------+\n",
      "| price|        prediction|     scaled_features|\n",
      "+------+------------------+--------------------+\n",
      "|1100.0| 3213.832731873961|(29279,[10,406,41...|\n",
      "|1200.0|3329.6051487433724|(29279,[10,406,41...|\n",
      "|1234.0|3518.6913092120085|(29279,[10,406,41...|\n",
      "|1600.0| 3615.399094182765|(29279,[10,406,41...|\n",
      "|1900.0| 558.0919348474126|(29279,[10,406,41...|\n",
      "+------+------------------+--------------------+\n",
      "only showing top 5 rows\n",
      "\n",
      "regression result\n",
      "R2 score: 0.8463705712467313\n",
      "Mean Squared Error: 24094466.648498315\n",
      "Root Mean Squared Error: 4908.611478666682\n"
     ]
    }
   ],
   "source": [
    "# apply model\n",
    "predictions = lasso_model.transform(test_data)\n",
    "\n",
    "# 选择要显示的列\n",
    "predictions.select(\"price\", \"prediction\", \"scaled_features\").show(5)\n",
    "\n",
    "# 初始化回归评估器\n",
    "evaluator = RegressionEvaluator(labelCol=\"price\", predictionCol=\"prediction\")\n",
    "\n",
    "# 计算评估指标\n",
    "r2 = evaluator.evaluate(predictions, {evaluator.metricName: \"r2\"})\n",
    "mse = evaluator.evaluate(predictions, {evaluator.metricName: \"mse\"})\n",
    "rmse = evaluator.evaluate(predictions, {evaluator.metricName: \"rmse\"})\n",
    "\n",
    "# 打印评估指标\n",
    "print(\"regression result\")\n",
    "print(f\"R2 score: {r2}\")\n",
    "print(f\"Mean Squared Error: {mse}\")\n",
    "print(f\"Root Mean Squared Error: {rmse}\")"
   ]
  },
  {
   "cell_type": "code",
   "execution_count": 30,
   "metadata": {},
   "outputs": [
    {
     "data": {
      "text/plain": [
       "[('year', 274.8104337413023),\n",
       " ('transmission_ohe', -121.31184588594033),\n",
       " ('region_ohe', -120.94110115909548),\n",
       " ('manufacturer_ohe', -109.93670199487468),\n",
       " ('type_ohe', -84.02400318646083),\n",
       " ('condition_ohe', -46.45417931079852),\n",
       " ('fuel_ohe', -36.91203730515515),\n",
       " ('state_ohe', 34.6842441116515),\n",
       " ('cylinders', -33.15853131590565),\n",
       " ('odometer', 15.192033546348265),\n",
       " ('model_ohe', 11.177593784747588),\n",
       " ('title_status_ohe', -8.3914553399019),\n",
       " ('drive_ohe', 6.208809909628746)]"
      ]
     },
     "execution_count": 30,
     "metadata": {},
     "output_type": "execute_result"
    }
   ],
   "source": [
    "lr_model = model.stages[-1]\n",
    "coefficients = lr_model.coefficients\n",
    "assembler_input_cols = assembler.getInputCols()\n",
    "coefficients_list = coefficients.tolist()\n",
    "feature_coefficient_tuples = list(zip(assembler_input_cols, coefficients_list))\n",
    "# result_df = spark.createDataFrame(feature_coefficient_tuples, [\"feature\", \"coefficient\"])\n",
    "# result_df.show(5)\n",
    "\n",
    "# ----------------------------------------------------------------\n",
    "# what factors are related to car price?\n",
    "sorted(feature_coefficient_tuples,key=lambda x: abs(x[1]),reverse=True)"
   ]
  },
  {
   "attachments": {},
   "cell_type": "markdown",
   "metadata": {},
   "source": [
    "### insights: \n",
    "###### the major factors that affect userd car prices are year, odometer(mileage), and regions. It suggests that being in different regions can significantly affect your car price\n",
    "###### aother interesting finding is that in used car markets, more cylinders car(higher performance cars) will decrease the car's value, probably due to maintenance concerns\n",
    "###### popular used cars with high resell values such as (toyota, honda) usually have 4 cylinders\n",
    "###### four wheel drives will increase the car's value\n"
   ]
  },
  {
   "cell_type": "code",
   "execution_count": 79,
   "metadata": {},
   "outputs": [],
   "source": [
    "from pyspark.sql.functions import avg\n",
    "\n",
    "# 选择Toyota品牌的车辆数据\n",
    "toyota_df = df.filter((df[\"manufacturer\"] == \"toyota\") & (df[\"condition\"] == \"good\"))\n",
    "\n",
    "\n",
    "# 按照年份计算每年Toyota车型的平均价格\n",
    "toyota_average_price_by_year = toyota_df.filter((toyota_df[\"year\"] >= 2012) & (toyota_df[\"year\"] <= 2024))\\\n",
    "    .groupBy(\"year\").agg(avg(\"price\")).orderBy(\"year\").collect()\n",
    "\n",
    "# 计算每行驶1英里所降低的价格\n",
    "average_price_per_mile = toyota_df.groupBy().agg(avg(\"price\")/avg(\"odometer\")).collect()[0][0]\n"
   ]
  },
  {
   "cell_type": "code",
   "execution_count": 82,
   "metadata": {},
   "outputs": [],
   "source": [
    "\n",
    "\n",
    "bmw_df = df.filter((df[\"manufacturer\"] == \"bmw\") & (df[\"condition\"] == \"good\"))\n",
    "\n",
    "bmw_average_price_by_year = bmw_df.filter((bmw_df[\"year\"] >= 2012) & (bmw_df[\"year\"] <= 2024))\\\n",
    "    .groupBy(\"year\").agg(avg(\"price\")).orderBy(\"year\").collect()\n",
    "\n",
    "\n",
    "average_price_per_mile = bmw_df.groupBy().agg(avg(\"price\")/avg(\"odometer\")).collect()[0][0]\n",
    "\n",
    "\n"
   ]
  },
  {
   "cell_type": "code",
   "execution_count": null,
   "metadata": {},
   "outputs": [],
   "source": [
    "from pyspark.sql.functions import avg\n",
    "\n",
    "# 选择Mercedes-Benz品牌的车辆数据\n",
    "mercedes_df = df.filter(df[\"manufacturer\"] == \"mercedes-benz\")\n",
    "\n",
    "# 选择生产年份早于2012年的车辆数据\n",
    "mercedes_df_10years = mercedes_df.filter(mercedes_df[\"year\"] < 2012)\n",
    "\n",
    "# 计算十年以上车龄的平均价格\n",
    "average_price_10years = mercedes_df_10years.groupBy().agg(avg(\"price\")).collect()[0][0]\n",
    "\n",
    "# 按照年份计算每年Mercedes-Benz车型的平均价格\n",
    "average_price_by_year = mercedes_df.groupBy(\"year\").agg(avg(\"price\")).orderBy(\"year\").collect()\n",
    "\n",
    "# 计算每行驶1英里所降低的价格\n",
    "average_price_per_mile = mercedes_df.groupBy().agg(avg(\"price\")/avg(\"odometer\")).collect()[0][0]\n"
   ]
  },
  {
   "cell_type": "code",
   "execution_count": 135,
   "metadata": {},
   "outputs": [
    {
     "data": {
      "image/png": "[encoded data removed]",
      "text/plain": [
       "<Figure size 432x288 with 1 Axes>"
      ]
     },
     "metadata": {},
     "output_type": "display_data"
    }
   ],
   "source": [
    "import pandas as pd\n",
    "import matplotlib.pyplot as plt\n",
    "average_price_by_year_df = pd.DataFrame(toyota_average_price_by_year, columns=[\"year\", \"average_price\"])\n",
    "bmw_average_price_by_year=pd.DataFrame(bmw_average_price_by_year, columns=[\"year\", \"average_price\"])\n",
    "plt.plot(average_price_by_year_df[\"year\"], average_price_by_year_df[\"average_price\"], label=\"Toyota\")\n",
    "plt.plot(bmw_average_price_by_year[\"year\"], bmw_average_price_by_year[\"average_price\"], label=\"BMW\")\n",
    "plt.title(\"Depreciation over Year for Cars by Brand\")\n",
    "plt.xlabel(\"Year\")\n",
    "plt.ylabel(\"Average Price\")\n",
    "plt.gca().invert_xaxis()  # 反转x轴\n",
    "plt.legend()\n",
    "plt.savefig(\"my_plot1.png\",dpi=300)"
   ]
  },
  {
   "cell_type": "code",
   "execution_count": 134,
   "metadata": {},
   "outputs": [
    {
     "data": {
      "text/plain": [
       "<Figure size 432x360 with 0 Axes>"
      ]
     },
     "metadata": {},
     "output_type": "display_data"
    },
    {
     "data": {
      "image/png": "[encoded data removed]",
      "text/plain": [
       "<Figure size 432x288 with 1 Axes>"
      ]
     },
     "metadata": {},
     "output_type": "display_data"
    }
   ],
   "source": [
    "# 计算每个制造商的平均价格和平均里程\n",
    "# 计算每个制造商的平均价格和平均里程\n",
    "avg_price_mileage = df.groupBy(\"manufacturer\").agg(avg(\"price\").alias(\"avg_price\"), avg(\"odometer\").alias(\"avg_mileage\"))\n",
    "avg_price_per_mile = avg_price_mileage.withColumn(\"avg_price_per_mile\", avg_price_mileage[\"avg_price\"] / avg_price_mileage[\"avg_mileage\"])\n",
    "# 将结果转换为Pandas DataFrame，并按照平均每英里价格从高到低排序\n",
    "result_df = avg_price_per_mile.select(\"manufacturer\", \"avg_price_per_mile\").orderBy(\"avg_price_per_mile\", ascending=False).toPandas()\n",
    "# 设置Matplotlib主题\n",
    "plt.style.use('ggplot')\n",
    "# 创建一个bar graph\n",
    "plt.figure(figsize=(6,5))\n",
    "ax = result_df.plot(kind=\"bar\", x=\"manufacturer\", y=\"avg_price_per_mile\")\n",
    "ax.set_title(\"Average Depreciation Cost per Mile by Manufacturer\")\n",
    "ax.set_xlabel(\"Manufacturer\")\n",
    "ax.set_ylabel(\"Average Price per Mile\")\n",
    "ax.set_xticks(ax.get_xticks()[:-2])\n",
    "plt.tight_layout() \n",
    "# 显示图形\n",
    "# plt.show()\n",
    "plt.savefig(\"my_plot.png\",dpi=300)\n",
    "\n"
   ]
  },
  {
   "cell_type": "code",
   "execution_count": 119,
   "metadata": {},
   "outputs": [
    {
     "data": {
      "text/plain": [
       "<Figure size 432x288 with 0 Axes>"
      ]
     },
     "metadata": {},
     "output_type": "display_data"
    }
   ],
   "source": [
    "plt.savefig(\"my_plot.png\")"
   ]
  },
  {
   "cell_type": "code",
   "execution_count": 44,
   "metadata": {},
   "outputs": [],
   "source": [
    "spark.stop()"
   ]
  },
  {
   "cell_type": "code",
   "execution_count": null,
   "metadata": {},
   "outputs": [],
   "source": [
    "Used Car Market Analysis"
   ]
  }
 ],
 "metadata": {
  "kernelspec": {
   "display_name": "Python 3",
   "language": "python",
   "name": "python3"
  },
  "language_info": {
   "codemirror_mode": {
    "name": "ipython",
    "version": 3
   },
   "file_extension": ".py",
   "mimetype": "text/x-python",
   "name": "python",
   "nbconvert_exporter": "python",
   "pygments_lexer": "ipython3",
   "version": "3.10.6"
  },
  "orig_nbformat": 4
 },
 "nbformat": 4,
 "nbformat_minor": 2
}
